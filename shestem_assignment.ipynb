{
  "nbformat": 4,
  "nbformat_minor": 0,
  "metadata": {
    "colab": {
      "provenance": []
    },
    "kernelspec": {
      "name": "python3",
      "display_name": "Python 3"
    },
    "language_info": {
      "name": "python"
    }
  },
  "cells": [
    {
      "cell_type": "markdown",
      "source": [
        "**SECTION A**: Data Import & Preprocessing"
      ],
      "metadata": {
        "id": "JQhTzdxkar1A"
      }
    },
    {
      "cell_type": "code",
      "source": [
        "from google.colab import drive\n",
        "drive.mount('/content/drive')"
      ],
      "metadata": {
        "colab": {
          "base_uri": "https://localhost:8080/"
        },
        "id": "IaYO5FKua_jo",
        "outputId": "662bff7a-eedb-4b66-c420-abe1145ed5f3"
      },
      "execution_count": 158,
      "outputs": [
        {
          "output_type": "stream",
          "name": "stdout",
          "text": [
            "Drive already mounted at /content/drive; to attempt to forcibly remount, call drive.mount(\"/content/drive\", force_remount=True).\n"
          ]
        }
      ]
    },
    {
      "cell_type": "code",
      "source": [
        "import pandas as pd\n",
        "import numpy as np\n",
        "from sklearn.preprocessing import StandardScaler\n",
        "\n",
        "file_path = '/content/drive/MyDrive/traffic.csv'\n",
        "df = pd.read_csv(file_path)\n",
        "\n",
        "print(\"First 10 rows of dataset:\")\n",
        "display(df.head(10))\n",
        "\n",
        "print(\"\\nMissing values per column:\")\n",
        "print(df.isna().sum())"
      ],
      "metadata": {
        "colab": {
          "base_uri": "https://localhost:8080/",
          "height": 501
        },
        "id": "FbP1wnVMbIx8",
        "outputId": "6c170336-e682-4a42-92e8-9e48b2b6ba6b"
      },
      "execution_count": 159,
      "outputs": [
        {
          "output_type": "stream",
          "name": "stdout",
          "text": [
            "First 10 rows of dataset:\n"
          ]
        },
        {
          "output_type": "display_data",
          "data": {
            "text/plain": [
              "              DateTime  Junction  Vehicles           ID\n",
              "0  2015-11-01 00:00:00         1        15  20151101001\n",
              "1  2015-11-01 01:00:00         1        13  20151101011\n",
              "2  2015-11-01 02:00:00         1        10  20151101021\n",
              "3  2015-11-01 03:00:00         1         7  20151101031\n",
              "4  2015-11-01 04:00:00         1         9  20151101041\n",
              "5  2015-11-01 05:00:00         1         6  20151101051\n",
              "6  2015-11-01 06:00:00         1         9  20151101061\n",
              "7  2015-11-01 07:00:00         1         8  20151101071\n",
              "8  2015-11-01 08:00:00         1        11  20151101081\n",
              "9  2015-11-01 09:00:00         1        12  20151101091"
            ],
            "text/html": [
              "\n",
              "  <div id=\"df-6a380365-5800-4844-b92a-1b6298a29640\" class=\"colab-df-container\">\n",
              "    <div>\n",
              "<style scoped>\n",
              "    .dataframe tbody tr th:only-of-type {\n",
              "        vertical-align: middle;\n",
              "    }\n",
              "\n",
              "    .dataframe tbody tr th {\n",
              "        vertical-align: top;\n",
              "    }\n",
              "\n",
              "    .dataframe thead th {\n",
              "        text-align: right;\n",
              "    }\n",
              "</style>\n",
              "<table border=\"1\" class=\"dataframe\">\n",
              "  <thead>\n",
              "    <tr style=\"text-align: right;\">\n",
              "      <th></th>\n",
              "      <th>DateTime</th>\n",
              "      <th>Junction</th>\n",
              "      <th>Vehicles</th>\n",
              "      <th>ID</th>\n",
              "    </tr>\n",
              "  </thead>\n",
              "  <tbody>\n",
              "    <tr>\n",
              "      <th>0</th>\n",
              "      <td>2015-11-01 00:00:00</td>\n",
              "      <td>1</td>\n",
              "      <td>15</td>\n",
              "      <td>20151101001</td>\n",
              "    </tr>\n",
              "    <tr>\n",
              "      <th>1</th>\n",
              "      <td>2015-11-01 01:00:00</td>\n",
              "      <td>1</td>\n",
              "      <td>13</td>\n",
              "      <td>20151101011</td>\n",
              "    </tr>\n",
              "    <tr>\n",
              "      <th>2</th>\n",
              "      <td>2015-11-01 02:00:00</td>\n",
              "      <td>1</td>\n",
              "      <td>10</td>\n",
              "      <td>20151101021</td>\n",
              "    </tr>\n",
              "    <tr>\n",
              "      <th>3</th>\n",
              "      <td>2015-11-01 03:00:00</td>\n",
              "      <td>1</td>\n",
              "      <td>7</td>\n",
              "      <td>20151101031</td>\n",
              "    </tr>\n",
              "    <tr>\n",
              "      <th>4</th>\n",
              "      <td>2015-11-01 04:00:00</td>\n",
              "      <td>1</td>\n",
              "      <td>9</td>\n",
              "      <td>20151101041</td>\n",
              "    </tr>\n",
              "    <tr>\n",
              "      <th>5</th>\n",
              "      <td>2015-11-01 05:00:00</td>\n",
              "      <td>1</td>\n",
              "      <td>6</td>\n",
              "      <td>20151101051</td>\n",
              "    </tr>\n",
              "    <tr>\n",
              "      <th>6</th>\n",
              "      <td>2015-11-01 06:00:00</td>\n",
              "      <td>1</td>\n",
              "      <td>9</td>\n",
              "      <td>20151101061</td>\n",
              "    </tr>\n",
              "    <tr>\n",
              "      <th>7</th>\n",
              "      <td>2015-11-01 07:00:00</td>\n",
              "      <td>1</td>\n",
              "      <td>8</td>\n",
              "      <td>20151101071</td>\n",
              "    </tr>\n",
              "    <tr>\n",
              "      <th>8</th>\n",
              "      <td>2015-11-01 08:00:00</td>\n",
              "      <td>1</td>\n",
              "      <td>11</td>\n",
              "      <td>20151101081</td>\n",
              "    </tr>\n",
              "    <tr>\n",
              "      <th>9</th>\n",
              "      <td>2015-11-01 09:00:00</td>\n",
              "      <td>1</td>\n",
              "      <td>12</td>\n",
              "      <td>20151101091</td>\n",
              "    </tr>\n",
              "  </tbody>\n",
              "</table>\n",
              "</div>\n",
              "    <div class=\"colab-df-buttons\">\n",
              "\n",
              "  <div class=\"colab-df-container\">\n",
              "    <button class=\"colab-df-convert\" onclick=\"convertToInteractive('df-6a380365-5800-4844-b92a-1b6298a29640')\"\n",
              "            title=\"Convert this dataframe to an interactive table.\"\n",
              "            style=\"display:none;\">\n",
              "\n",
              "  <svg xmlns=\"http://www.w3.org/2000/svg\" height=\"24px\" viewBox=\"0 -960 960 960\">\n",
              "    <path d=\"M120-120v-720h720v720H120Zm60-500h600v-160H180v160Zm220 220h160v-160H400v160Zm0 220h160v-160H400v160ZM180-400h160v-160H180v160Zm440 0h160v-160H620v160ZM180-180h160v-160H180v160Zm440 0h160v-160H620v160Z\"/>\n",
              "  </svg>\n",
              "    </button>\n",
              "\n",
              "  <style>\n",
              "    .colab-df-container {\n",
              "      display:flex;\n",
              "      gap: 12px;\n",
              "    }\n",
              "\n",
              "    .colab-df-convert {\n",
              "      background-color: #E8F0FE;\n",
              "      border: none;\n",
              "      border-radius: 50%;\n",
              "      cursor: pointer;\n",
              "      display: none;\n",
              "      fill: #1967D2;\n",
              "      height: 32px;\n",
              "      padding: 0 0 0 0;\n",
              "      width: 32px;\n",
              "    }\n",
              "\n",
              "    .colab-df-convert:hover {\n",
              "      background-color: #E2EBFA;\n",
              "      box-shadow: 0px 1px 2px rgba(60, 64, 67, 0.3), 0px 1px 3px 1px rgba(60, 64, 67, 0.15);\n",
              "      fill: #174EA6;\n",
              "    }\n",
              "\n",
              "    .colab-df-buttons div {\n",
              "      margin-bottom: 4px;\n",
              "    }\n",
              "\n",
              "    [theme=dark] .colab-df-convert {\n",
              "      background-color: #3B4455;\n",
              "      fill: #D2E3FC;\n",
              "    }\n",
              "\n",
              "    [theme=dark] .colab-df-convert:hover {\n",
              "      background-color: #434B5C;\n",
              "      box-shadow: 0px 1px 3px 1px rgba(0, 0, 0, 0.15);\n",
              "      filter: drop-shadow(0px 1px 2px rgba(0, 0, 0, 0.3));\n",
              "      fill: #FFFFFF;\n",
              "    }\n",
              "  </style>\n",
              "\n",
              "    <script>\n",
              "      const buttonEl =\n",
              "        document.querySelector('#df-6a380365-5800-4844-b92a-1b6298a29640 button.colab-df-convert');\n",
              "      buttonEl.style.display =\n",
              "        google.colab.kernel.accessAllowed ? 'block' : 'none';\n",
              "\n",
              "      async function convertToInteractive(key) {\n",
              "        const element = document.querySelector('#df-6a380365-5800-4844-b92a-1b6298a29640');\n",
              "        const dataTable =\n",
              "          await google.colab.kernel.invokeFunction('convertToInteractive',\n",
              "                                                    [key], {});\n",
              "        if (!dataTable) return;\n",
              "\n",
              "        const docLinkHtml = 'Like what you see? Visit the ' +\n",
              "          '<a target=\"_blank\" href=https://colab.research.google.com/notebooks/data_table.ipynb>data table notebook</a>'\n",
              "          + ' to learn more about interactive tables.';\n",
              "        element.innerHTML = '';\n",
              "        dataTable['output_type'] = 'display_data';\n",
              "        await google.colab.output.renderOutput(dataTable, element);\n",
              "        const docLink = document.createElement('div');\n",
              "        docLink.innerHTML = docLinkHtml;\n",
              "        element.appendChild(docLink);\n",
              "      }\n",
              "    </script>\n",
              "  </div>\n",
              "\n",
              "\n",
              "    <div id=\"df-192fcf22-00e4-4b94-8977-0cee00f4d157\">\n",
              "      <button class=\"colab-df-quickchart\" onclick=\"quickchart('df-192fcf22-00e4-4b94-8977-0cee00f4d157')\"\n",
              "                title=\"Suggest charts\"\n",
              "                style=\"display:none;\">\n",
              "\n",
              "<svg xmlns=\"http://www.w3.org/2000/svg\" height=\"24px\"viewBox=\"0 0 24 24\"\n",
              "     width=\"24px\">\n",
              "    <g>\n",
              "        <path d=\"M19 3H5c-1.1 0-2 .9-2 2v14c0 1.1.9 2 2 2h14c1.1 0 2-.9 2-2V5c0-1.1-.9-2-2-2zM9 17H7v-7h2v7zm4 0h-2V7h2v10zm4 0h-2v-4h2v4z\"/>\n",
              "    </g>\n",
              "</svg>\n",
              "      </button>\n",
              "\n",
              "<style>\n",
              "  .colab-df-quickchart {\n",
              "      --bg-color: #E8F0FE;\n",
              "      --fill-color: #1967D2;\n",
              "      --hover-bg-color: #E2EBFA;\n",
              "      --hover-fill-color: #174EA6;\n",
              "      --disabled-fill-color: #AAA;\n",
              "      --disabled-bg-color: #DDD;\n",
              "  }\n",
              "\n",
              "  [theme=dark] .colab-df-quickchart {\n",
              "      --bg-color: #3B4455;\n",
              "      --fill-color: #D2E3FC;\n",
              "      --hover-bg-color: #434B5C;\n",
              "      --hover-fill-color: #FFFFFF;\n",
              "      --disabled-bg-color: #3B4455;\n",
              "      --disabled-fill-color: #666;\n",
              "  }\n",
              "\n",
              "  .colab-df-quickchart {\n",
              "    background-color: var(--bg-color);\n",
              "    border: none;\n",
              "    border-radius: 50%;\n",
              "    cursor: pointer;\n",
              "    display: none;\n",
              "    fill: var(--fill-color);\n",
              "    height: 32px;\n",
              "    padding: 0;\n",
              "    width: 32px;\n",
              "  }\n",
              "\n",
              "  .colab-df-quickchart:hover {\n",
              "    background-color: var(--hover-bg-color);\n",
              "    box-shadow: 0 1px 2px rgba(60, 64, 67, 0.3), 0 1px 3px 1px rgba(60, 64, 67, 0.15);\n",
              "    fill: var(--button-hover-fill-color);\n",
              "  }\n",
              "\n",
              "  .colab-df-quickchart-complete:disabled,\n",
              "  .colab-df-quickchart-complete:disabled:hover {\n",
              "    background-color: var(--disabled-bg-color);\n",
              "    fill: var(--disabled-fill-color);\n",
              "    box-shadow: none;\n",
              "  }\n",
              "\n",
              "  .colab-df-spinner {\n",
              "    border: 2px solid var(--fill-color);\n",
              "    border-color: transparent;\n",
              "    border-bottom-color: var(--fill-color);\n",
              "    animation:\n",
              "      spin 1s steps(1) infinite;\n",
              "  }\n",
              "\n",
              "  @keyframes spin {\n",
              "    0% {\n",
              "      border-color: transparent;\n",
              "      border-bottom-color: var(--fill-color);\n",
              "      border-left-color: var(--fill-color);\n",
              "    }\n",
              "    20% {\n",
              "      border-color: transparent;\n",
              "      border-left-color: var(--fill-color);\n",
              "      border-top-color: var(--fill-color);\n",
              "    }\n",
              "    30% {\n",
              "      border-color: transparent;\n",
              "      border-left-color: var(--fill-color);\n",
              "      border-top-color: var(--fill-color);\n",
              "      border-right-color: var(--fill-color);\n",
              "    }\n",
              "    40% {\n",
              "      border-color: transparent;\n",
              "      border-right-color: var(--fill-color);\n",
              "      border-top-color: var(--fill-color);\n",
              "    }\n",
              "    60% {\n",
              "      border-color: transparent;\n",
              "      border-right-color: var(--fill-color);\n",
              "    }\n",
              "    80% {\n",
              "      border-color: transparent;\n",
              "      border-right-color: var(--fill-color);\n",
              "      border-bottom-color: var(--fill-color);\n",
              "    }\n",
              "    90% {\n",
              "      border-color: transparent;\n",
              "      border-bottom-color: var(--fill-color);\n",
              "    }\n",
              "  }\n",
              "</style>\n",
              "\n",
              "      <script>\n",
              "        async function quickchart(key) {\n",
              "          const quickchartButtonEl =\n",
              "            document.querySelector('#' + key + ' button');\n",
              "          quickchartButtonEl.disabled = true;  // To prevent multiple clicks.\n",
              "          quickchartButtonEl.classList.add('colab-df-spinner');\n",
              "          try {\n",
              "            const charts = await google.colab.kernel.invokeFunction(\n",
              "                'suggestCharts', [key], {});\n",
              "          } catch (error) {\n",
              "            console.error('Error during call to suggestCharts:', error);\n",
              "          }\n",
              "          quickchartButtonEl.classList.remove('colab-df-spinner');\n",
              "          quickchartButtonEl.classList.add('colab-df-quickchart-complete');\n",
              "        }\n",
              "        (() => {\n",
              "          let quickchartButtonEl =\n",
              "            document.querySelector('#df-192fcf22-00e4-4b94-8977-0cee00f4d157 button');\n",
              "          quickchartButtonEl.style.display =\n",
              "            google.colab.kernel.accessAllowed ? 'block' : 'none';\n",
              "        })();\n",
              "      </script>\n",
              "    </div>\n",
              "\n",
              "    </div>\n",
              "  </div>\n"
            ],
            "application/vnd.google.colaboratory.intrinsic+json": {
              "type": "dataframe",
              "summary": "{\n  \"name\": \"print(df\",\n  \"rows\": 10,\n  \"fields\": [\n    {\n      \"column\": \"DateTime\",\n      \"properties\": {\n        \"dtype\": \"object\",\n        \"num_unique_values\": 10,\n        \"samples\": [\n          \"2015-11-01 08:00:00\",\n          \"2015-11-01 01:00:00\",\n          \"2015-11-01 05:00:00\"\n        ],\n        \"semantic_type\": \"\",\n        \"description\": \"\"\n      }\n    },\n    {\n      \"column\": \"Junction\",\n      \"properties\": {\n        \"dtype\": \"number\",\n        \"std\": 0,\n        \"min\": 1,\n        \"max\": 1,\n        \"num_unique_values\": 1,\n        \"samples\": [\n          1\n        ],\n        \"semantic_type\": \"\",\n        \"description\": \"\"\n      }\n    },\n    {\n      \"column\": \"Vehicles\",\n      \"properties\": {\n        \"dtype\": \"number\",\n        \"std\": 2,\n        \"min\": 6,\n        \"max\": 15,\n        \"num_unique_values\": 9,\n        \"samples\": [\n          11\n        ],\n        \"semantic_type\": \"\",\n        \"description\": \"\"\n      }\n    },\n    {\n      \"column\": \"ID\",\n      \"properties\": {\n        \"dtype\": \"number\",\n        \"std\": 30,\n        \"min\": 20151101001,\n        \"max\": 20151101091,\n        \"num_unique_values\": 10,\n        \"samples\": [\n          20151101081\n        ],\n        \"semantic_type\": \"\",\n        \"description\": \"\"\n      }\n    }\n  ]\n}"
            }
          },
          "metadata": {}
        },
        {
          "output_type": "stream",
          "name": "stdout",
          "text": [
            "\n",
            "Missing values per column:\n",
            "DateTime    0\n",
            "Junction    0\n",
            "Vehicles    0\n",
            "ID          0\n",
            "dtype: int64\n"
          ]
        }
      ]
    },
    {
      "cell_type": "code",
      "source": [
        "df['DateTime'] = pd.to_datetime(df['DateTime'], errors='coerce')\n",
        "\n",
        "df['Hour'] = df['DateTime'].dt.hour\n",
        "df['DayOfWeek'] = df['DateTime'].dt.dayofweek  # Monday=0\n",
        "df['Weekend'] = df['DayOfWeek'].isin([5,6]).astype(int)\n",
        "\n",
        "num_cols = df.select_dtypes(include=np.number).columns.tolist()\n",
        "cat_cols = [c for c in df.columns if c not in num_cols]\n",
        "\n",
        "for col in num_cols:\n",
        "    df[col] = df[col].fillna(df[col].median())\n",
        "for col in cat_cols:\n",
        "    df[col] = df[col].fillna(df[col].mode().iloc[0])\n",
        "\n",
        "num_to_scale = [c for c in num_cols if c != 'Vehicles']\n",
        "scaler = StandardScaler()\n",
        "df[num_to_scale] = scaler.fit_transform(df[num_to_scale])"
      ],
      "metadata": {
        "id": "HUHykKVsbfpq"
      },
      "execution_count": 160,
      "outputs": []
    },
    {
      "cell_type": "code",
      "source": [
        "print(\"\\nData preprocessing complete! Shape:\", df.shape)"
      ],
      "metadata": {
        "colab": {
          "base_uri": "https://localhost:8080/"
        },
        "id": "m36CHoBzcoQ_",
        "outputId": "5b9d65df-92e1-4c98-8d09-15d24b1c33c5"
      },
      "execution_count": 161,
      "outputs": [
        {
          "output_type": "stream",
          "name": "stdout",
          "text": [
            "\n",
            "Data preprocessing complete! Shape: (48120, 7)\n"
          ]
        }
      ]
    },
    {
      "cell_type": "markdown",
      "source": [
        "\n",
        "\n",
        "---\n",
        "\n"
      ],
      "metadata": {
        "id": "PVVeaangmM1P"
      }
    },
    {
      "cell_type": "markdown",
      "source": [
        "**SECTION B**: Exploratory Data Analysis"
      ],
      "metadata": {
        "id": "P7aQ_HTidFHx"
      }
    },
    {
      "cell_type": "code",
      "source": [
        "import matplotlib.pyplot as plt\n",
        "import seaborn as sns\n",
        "\n",
        "print(\"\\nSECTION B: Exploratory Data Analysis\")\n",
        "print(\"=\"*40)"
      ],
      "metadata": {
        "colab": {
          "base_uri": "https://localhost:8080/"
        },
        "id": "XMZhnWxxdOQM",
        "outputId": "e91d24fe-7b7a-481b-8215-b3fd7be55d11"
      },
      "execution_count": 162,
      "outputs": [
        {
          "output_type": "stream",
          "name": "stdout",
          "text": [
            "\n",
            "SECTION B: Exploratory Data Analysis\n",
            "========================================\n"
          ]
        }
      ]
    },
    {
      "cell_type": "code",
      "source": [
        "plt.figure(figsize=(14,5))\n",
        "plt.plot(df['DateTime'], df['Vehicles'], color='blue', alpha=0.6)\n",
        "plt.title(\"Traffic Volume Over Time\")\n",
        "plt.xlabel(\"Date\")\n",
        "plt.ylabel(\"Number of Vehicles\")\n",
        "plt.tight_layout()\n",
        "plt.show()"
      ],
      "metadata": {
        "colab": {
          "base_uri": "https://localhost:8080/",
          "height": 507
        },
        "id": "WmzxH2T7dczC",
        "outputId": "a2e35c04-9e6b-43a1-d86f-6ddc5643c380"
      },
      "execution_count": 163,
      "outputs": [
        {
          "output_type": "display_data",
          "data": {
            "text/plain": [
              "<Figure size 1400x500 with 1 Axes>"
            ],
            "image/png": "[encoded data removed]"
          },
          "metadata": {}
        }
      ]
    },
    {
      "cell_type": "code",
      "source": [
        "plt.figure(figsize=(10,5))\n",
        "sns.barplot(x='Hour', y='Vehicles', data=df, estimator='mean', palette=\"Blues_d\")\n",
        "plt.title(\"Average Traffic Volume by Hour of Day\")\n",
        "plt.xlabel(\"Hour of Day (0=Midnight)\")\n",
        "plt.ylabel(\"Average Vehicles\")\n",
        "plt.tight_layout()\n",
        "plt.show()"
      ],
      "metadata": {
        "colab": {
          "base_uri": "https://localhost:8080/",
          "height": 594
        },
        "id": "v1eddV8lde9j",
        "outputId": "78bca588-777e-40aa-c575-a87a66b2c007"
      },
      "execution_count": 164,
      "outputs": [
        {
          "output_type": "stream",
          "name": "stderr",
          "text": [
            "/tmp/ipython-input-2821061463.py:2: FutureWarning: \n",
            "\n",
            "Passing `palette` without assigning `hue` is deprecated and will be removed in v0.14.0. Assign the `x` variable to `hue` and set `legend=False` for the same effect.\n",
            "\n",
            "  sns.barplot(x='Hour', y='Vehicles', data=df, estimator='mean', palette=\"Blues_d\")\n"
          ]
        },
        {
          "output_type": "display_data",
          "data": {
            "text/plain": [
              "<Figure size 1000x500 with 1 Axes>"
            ],
            "image/png": "[encoded data removed]"
          },
          "metadata": {}
        }
      ]
    },
    {
      "cell_type": "code",
      "source": [
        "plt.figure(figsize=(10,5))\n",
        "sns.barplot(x='DayOfWeek', y='Vehicles', data=df, estimator='mean', palette=\"Greens_d\")\n",
        "plt.title(\"Average Traffic Volume by Day of Week\")\n",
        "plt.xlabel(\"Day of Week (0=Mon, 6=Sun)\")\n",
        "plt.ylabel(\"Average Vehicles\")\n",
        "plt.tight_layout()\n",
        "plt.show()"
      ],
      "metadata": {
        "colab": {
          "base_uri": "https://localhost:8080/",
          "height": 594
        },
        "id": "5dIjZUm_ds9p",
        "outputId": "41ff3361-2ba3-4832-fd8c-24316b18ee51"
      },
      "execution_count": 165,
      "outputs": [
        {
          "output_type": "stream",
          "name": "stderr",
          "text": [
            "/tmp/ipython-input-3750809570.py:2: FutureWarning: \n",
            "\n",
            "Passing `palette` without assigning `hue` is deprecated and will be removed in v0.14.0. Assign the `x` variable to `hue` and set `legend=False` for the same effect.\n",
            "\n",
            "  sns.barplot(x='DayOfWeek', y='Vehicles', data=df, estimator='mean', palette=\"Greens_d\")\n"
          ]
        },
        {
          "output_type": "display_data",
          "data": {
            "text/plain": [
              "<Figure size 1000x500 with 1 Axes>"
            ],
            "image/png": "[encoded data removed]"
          },
          "metadata": {}
        }
      ]
    },
    {
      "cell_type": "markdown",
      "source": [
        "**TRENDS & CORRELATIONS**\n",
        "\n",
        "**`Hourly Trend (Rush Hours)`**\n",
        "\n",
        "Traffic follows our daily routines. It rises sharply around 7–9 AM when people go to work or school and again around 5–7 PM when they head back home. At night (midnight to 5 AM), traffic is very low.\n",
        "\n",
        "**Correlation:** There’s a positive correlation between traffic volume and commuting hours (morning & evening)\n",
        "\n",
        "**`Day of Week Trend (Weekdays vs Weekends)`**\n",
        "\n",
        "On weekdays (Mon–Fri), average traffic volume is much higher. On weekends (Sat–Sun), it drops significantly because fewer people commute.\n",
        "\n",
        "**Correlation:** There’s a negative correlation between traffic volume and weekends. weekends are linked to lower traffic.\n",
        "\n",
        "**`Overall Time Trend (Seasonality)`**\n",
        "\n",
        "Over time, traffic shows repeating weekly and seasonal cycles. For example, the same rush-hour peaks and weekend drops happen every week. During holidays (like December), there are occasional dips in traffic compared to regular months.\n",
        "\n",
        "**Correlation:** Traffic is positively correlated with working periods and negatively correlated with holiday seasons.\n",
        "\n",
        "\n",
        "---\n",
        "\n"
      ],
      "metadata": {
        "id": "vWSSKDiNe1_B"
      }
    },
    {
      "cell_type": "markdown",
      "source": [
        "**SECTION C**: Model Building & Evaluation"
      ],
      "metadata": {
        "id": "rr0SvQ5igWhL"
      }
    },
    {
      "cell_type": "code",
      "source": [
        "print(\"\\nSECTION C: Modeling & Evaluation\")\n",
        "print(\"=\"*40)\n",
        "\n",
        "from sklearn.model_selection import train_test_split\n",
        "from sklearn.linear_model import LinearRegression\n",
        "from sklearn.ensemble import RandomForestRegressor\n",
        "from sklearn.metrics import mean_squared_error, r2_score\n",
        "from math import sqrt"
      ],
      "metadata": {
        "colab": {
          "base_uri": "https://localhost:8080/"
        },
        "id": "ACi8vj3Pgd1e",
        "outputId": "f1637ce3-0be4-4a97-9f5b-2438aec63ea2"
      },
      "execution_count": 166,
      "outputs": [
        {
          "output_type": "stream",
          "name": "stdout",
          "text": [
            "\n",
            "SECTION C: Modeling & Evaluation\n",
            "========================================\n"
          ]
        }
      ]
    },
    {
      "cell_type": "code",
      "source": [
        "target = 'Vehicles'\n",
        "features = [c for c in df.columns if c not in ['Vehicles', 'DateTime', 'ID']]\n",
        "\n",
        "df_model = pd.get_dummies(df[features + [target]], drop_first=True)\n",
        "\n",
        "X = df_model.drop(columns=[target]).values\n",
        "y = df_model[target].values\n",
        "\n",
        "X_train, X_test, y_train, y_test = train_test_split(\n",
        "    X, y, test_size=0.2, shuffle=False\n",
        ")"
      ],
      "metadata": {
        "id": "UEyJBZ9IguTK"
      },
      "execution_count": 167,
      "outputs": []
    },
    {
      "cell_type": "code",
      "source": [
        "lr = LinearRegression()\n",
        "lr.fit(X_train, y_train)\n",
        "lr_preds = lr.predict(X_test)\n",
        "\n",
        "lr_rmse = sqrt(mean_squared_error(y_test, lr_preds))\n",
        "lr_r2 = r2_score(y_test, lr_preds)\n",
        "\n",
        "print(f\"Linear Regression -> RMSE: {lr_rmse:.2f}, R²: {lr_r2:.3f}\")"
      ],
      "metadata": {
        "colab": {
          "base_uri": "https://localhost:8080/"
        },
        "id": "QhDslIPAg7Lw",
        "outputId": "ea718a50-8ca5-40d8-f86f-e32e9fc3d2de"
      },
      "execution_count": 168,
      "outputs": [
        {
          "output_type": "stream",
          "name": "stdout",
          "text": [
            "Linear Regression -> RMSE: 18.25, R²: -2.352\n"
          ]
        }
      ]
    },
    {
      "cell_type": "code",
      "source": [
        "rf = RandomForestRegressor(n_estimators=300, random_state=42, n_jobs=-1)\n",
        "rf.fit(X_train, y_train)\n",
        "rf_preds = rf.predict(X_test)\n",
        "\n",
        "rf_rmse = sqrt(mean_squared_error(y_test, rf_preds))\n",
        "rf_r2 = r2_score(y_test, rf_preds)\n",
        "\n",
        "print(f\"Random Forest -> RMSE: {rf_rmse:.2f}, R²: {rf_r2:.3f}\")"
      ],
      "metadata": {
        "colab": {
          "base_uri": "https://localhost:8080/"
        },
        "id": "0Jf8E-NkhDjN",
        "outputId": "95c49b95-78c1-4eb0-9c0c-2ea7dcf0dbcc"
      },
      "execution_count": 169,
      "outputs": [
        {
          "output_type": "stream",
          "name": "stdout",
          "text": [
            "Random Forest -> RMSE: 8.95, R²: 0.194\n"
          ]
        }
      ]
    },
    {
      "cell_type": "code",
      "source": [
        "if rf_rmse < lr_rmse:\n",
        "    print(\"\\n Random Forest performs better (lower RMSE, higher R²).\")\n",
        "else:\n",
        "    print(\"\\n Linear Regression performs better (surprising, check data!).\")"
      ],
      "metadata": {
        "colab": {
          "base_uri": "https://localhost:8080/"
        },
        "id": "QcqEoTschH-N",
        "outputId": "31606120-d7eb-4c08-e650-f62808785e77"
      },
      "execution_count": 170,
      "outputs": [
        {
          "output_type": "stream",
          "name": "stdout",
          "text": [
            "\n",
            " Random Forest performs better (lower RMSE, higher R²).\n"
          ]
        }
      ]
    },
    {
      "cell_type": "markdown",
      "source": [
        "From these results, the **Random Forest** clearly outperformed **Linear Regression** — it had a lower RMSE and a higher R². This shows that traffic volume is not just a simple straight-line problem; instead, there are complex patterns (rush hours, weekdays vs weekends, etc.) that Random Forest captures much better.\n",
        "\n",
        "In conclusion, **Linear Regression** is a useful starting point, but **Random Forest** is a stronger model for predicting traffic volume because it better handles the non-linear and seasonal nature of the data.\n",
        "\n",
        "\n",
        "---\n",
        "\n"
      ],
      "metadata": {
        "id": "hU8ZmcKth89l"
      }
    },
    {
      "cell_type": "markdown",
      "source": [
        "**SECTION D**: Code Analysis & Interpretation"
      ],
      "metadata": {
        "id": "EXQ_Pr7QiWUQ"
      }
    },
    {
      "cell_type": "code",
      "metadata": {
        "colab": {
          "base_uri": "https://localhost:8080/"
        },
        "id": "52810293",
        "outputId": "09fc458c-9908-43ac-9c97-35ae25c56cb6"
      },
      "source": [
        "results_df = pd.DataFrame({'Actual': y_test, 'Predicted': rf_preds})\n",
        "\n",
        "df['Hour'] = df['DateTime'].dt.hour\n",
        "results_df['Hour'] = df.loc[results_df.index, 'Hour'].values\n",
        "\n",
        "hourly_predictions = results_df.groupby('Hour')['Predicted'].mean().sort_values(ascending=False)\n",
        "\n",
        "top_3_hours = hourly_predictions.head(3)\n",
        "\n",
        "print(\"\\nTop 3 hours with highest predicted traffic volume:\")\n",
        "print(top_3_hours)"
      ],
      "execution_count": 171,
      "outputs": [
        {
          "output_type": "stream",
          "name": "stdout",
          "text": [
            "\n",
            "Top 3 hours with highest predicted traffic volume:\n",
            "Hour\n",
            "20    16.368251\n",
            "19    16.078920\n",
            "12    15.289231\n",
            "Name: Predicted, dtype: float64\n"
          ]
        }
      ]
    },
    {
      "cell_type": "code",
      "metadata": {
        "colab": {
          "base_uri": "https://localhost:8080/"
        },
        "id": "81fd3a42",
        "outputId": "458b747e-9812-42d3-e306-42a1679ea542"
      },
      "source": [
        "importances = rf.feature_importances_\n",
        "\n",
        "feature_names = df_model.drop(columns=[target]).columns\n",
        "\n",
        "feature_importances = pd.Series(importances, index=feature_names)\n",
        "\n",
        "sorted_feature_importances = feature_importances.sort_values(ascending=False)\n",
        "\n",
        "print(\"\\nFeature Importances from Random Forest Model:\")\n",
        "print(sorted_feature_importances)"
      ],
      "execution_count": 172,
      "outputs": [
        {
          "output_type": "stream",
          "name": "stdout",
          "text": [
            "\n",
            "Feature Importances from Random Forest Model:\n",
            "Junction     0.724368\n",
            "Hour         0.183322\n",
            "DayOfWeek    0.051387\n",
            "Weekend      0.040923\n",
            "dtype: float64\n"
          ]
        }
      ]
    },
    {
      "cell_type": "code",
      "metadata": {
        "colab": {
          "base_uri": "https://localhost:8080/"
        },
        "id": "33dcdb38",
        "outputId": "d1bf0a5b-3416-4492-8bae-f7572d343054"
      },
      "source": [
        "results_df['Error'] = np.abs(results_df['Actual'] - results_df['Predicted'])\n",
        "\n",
        "max_error_row_index = results_df['Error'].idxmax()\n",
        "max_error_row = results_df.loc[max_error_row_index]\n",
        "\n",
        "print(\"\\nInstance with maximum prediction error:\")\n",
        "print(max_error_row)\n",
        "\n",
        "original_features_at_max_error = df.loc[max_error_row_index, ['Hour', 'Junction', 'DayOfWeek', 'Weekend']]\n",
        "\n",
        "print(\"\\nFeatures for this instance:\")\n",
        "print(original_features_at_max_error)"
      ],
      "execution_count": 173,
      "outputs": [
        {
          "output_type": "stream",
          "name": "stdout",
          "text": [
            "\n",
            "Instance with maximum prediction error:\n",
            "Actual       180.000000\n",
            "Predicted     16.697471\n",
            "Hour          19.000000\n",
            "Error        163.302529\n",
            "Name: 2227, dtype: float64\n",
            "\n",
            "Features for this instance:\n",
            "Hour               19\n",
            "Junction    -1.220905\n",
            "DayOfWeek   -1.498008\n",
            "Weekend     -0.630248\n",
            "Name: 2227, dtype: object\n"
          ]
        }
      ]
    },
    {
      "cell_type": "code",
      "metadata": {
        "colab": {
          "base_uri": "https://localhost:8080/"
        },
        "id": "412090ee",
        "outputId": "ce218cb5-a727-4c21-d9ba-7cc8893f2f09"
      },
      "source": [
        "print(\"\\n--- Analysis of Random Forest Model Results ---\")\n",
        "\n",
        "print(\"\\n1. Top 3 Hours with Highest Predicted Traffic:\")\n",
        "print(top_3_hours)\n",
        "\n",
        "print(\"\\n2. Feature Importances from Random Forest Model:\")\n",
        "print(sorted_feature_importances)\n",
        "print(f\"\\nThe most important feature is: {sorted_feature_importances.index[0]}\")\n",
        "\n",
        "print(\"\\n3. Analysis of an Instance with the Largest Prediction Error:\")\n",
        "print(f\"\\nInstance with maximum absolute error (index {max_error_row_index}):\")\n",
        "print(max_error_row[['Actual', 'Predicted', 'Error']])\n",
        "\n",
        "print(\"\\nFeatures for this instance:\")\n",
        "print(original_features_at_max_error)"
      ],
      "execution_count": 174,
      "outputs": [
        {
          "output_type": "stream",
          "name": "stdout",
          "text": [
            "\n",
            "--- Analysis of Random Forest Model Results ---\n",
            "\n",
            "1. Top 3 Hours with Highest Predicted Traffic:\n",
            "Hour\n",
            "20    16.368251\n",
            "19    16.078920\n",
            "12    15.289231\n",
            "Name: Predicted, dtype: float64\n",
            "\n",
            "2. Feature Importances from Random Forest Model:\n",
            "Junction     0.724368\n",
            "Hour         0.183322\n",
            "DayOfWeek    0.051387\n",
            "Weekend      0.040923\n",
            "dtype: float64\n",
            "\n",
            "The most important feature is: Junction\n",
            "\n",
            "3. Analysis of an Instance with the Largest Prediction Error:\n",
            "\n",
            "Instance with maximum absolute error (index 2227):\n",
            "Actual       180.000000\n",
            "Predicted     16.697471\n",
            "Error        163.302529\n",
            "Name: 2227, dtype: float64\n",
            "\n",
            "Features for this instance:\n",
            "Hour               19\n",
            "Junction    -1.220905\n",
            "DayOfWeek   -1.498008\n",
            "Weekend     -0.630248\n",
            "Name: 2227, dtype: object\n"
          ]
        }
      ]
    },
    {
      "cell_type": "markdown",
      "source": [
        "`**Hypothesis for the large prediction error**`\n",
        "\n",
        "The actual traffic (180) was significantly higher than the predicted traffic (17).\n",
        "This large error (163) occurred at Hour 19, Day of Week -1, Weekend status 0 at a specific Junction.\n",
        "A possible reason for this large discrepancy could be an unusual event or condition specific to that hour, day, and junction that was not captured by the model's features.\n",
        "For example, a major accident, a special event causing an unexpected traffic surge, or even a data anomaly could lead to such a large deviation from the typical patterns the model learned.\n",
        "\n",
        "\n",
        "---\n",
        "\n"
      ],
      "metadata": {
        "id": "JXS6JMQmkiHi"
      }
    },
    {
      "cell_type": "markdown",
      "source": [
        "**SECTION E**: Reflection & Learning"
      ],
      "metadata": {
        "id": "YM2qlTB9mcWu"
      }
    },
    {
      "cell_type": "markdown",
      "source": [
        "**`What the model learned:`**\n",
        "\n",
        "The **Random Forest** model primarily learned that Junction is the most significant factor in predicting traffic volume. This makes intuitive sense, as different junctions would have varying levels of traffic flow due to their location, size, and connected roads.\n",
        "\n",
        "The model also learned that Hour is an important predictor, capturing the daily patterns of traffic, such as rush hours. The analysis showed that hours around 7-9 AM and 5-7 PM tend to have higher predicted traffic volumes, aligning with typical commuting times.\n",
        "\n",
        "DayOfWeek and Weekend also contributed to the model's predictions, indicating that traffic patterns differ between weekdays and weekends. The model learned that weekdays generally have higher traffic than weekends.\n",
        "\n",
        "**`What I learned from this exercise:`**\n",
        "\n",
        "**Traffic patterns are complex:** Traffic volume is influenced by a combination of factors like location (junction), time of day, and day of the week.\n",
        "\n",
        "**Feature importance helps understand the model:** Analyzing feature importance is crucial for understanding which factors the model prioritizes when making predictions. In this case, the strong importance of 'Junction' highlights its critical role in determining traffic volume.\n",
        "\n",
        "**Models can have limitations:** Even a relatively good model like the Random Forest Regressor can have significant prediction errors for certain instances. Identifying these errors and hypothesizing the reasons behind them (e.g., unusual events not captured in the data) is an important part of the modeling process.\n",
        "\n",
        "**Data preprocessing is vital:** Steps like handling missing values and scaling numerical features are essential for preparing the data for machine learning models.\n",
        "\n",
        "**Different models capture different patterns:** The comparison between **Linear Regression** and **Random Forest** demonstrated that more complex models can better capture non-linear relationships and improve prediction accuracy in datasets with intricate patterns.\n",
        "\n",
        "\n",
        "---\n",
        "\n"
      ],
      "metadata": {
        "id": "EtKTOPSXpDYl"
      }
    },
    {
      "cell_type": "markdown",
      "source": [
        "**SECTION F**: Real-World Analogy & Critical Thinking"
      ],
      "metadata": {
        "id": "JxU80HBGsjgL"
      }
    },
    {
      "cell_type": "markdown",
      "source": [
        "**`Real-World Impact for Traffic Planners:`**\n",
        "\n",
        "Imagine a city traffic planner looking at that predicted volume for 8 AM on a Wednesday. Knowing that traffic is likely to be high at a specific hour and location allows them to make proactive decisions. They could adjust traffic light timings to optimize flow, deploy more traffic police to manage congestion, or even send out public service announcements advising commuters of potential delays. This real-time or near real-time prediction helps them manage traffic more efficiently and potentially reduce commute times and frustration for drivers.\n",
        "\n",
        "**`Model vs. Manual Observation:`**\n",
        "\n",
        "The key difference between what you can see in charts and averages versus what the model predicts is the predictive power and specificity. Charts and averages show you historical trends – what traffic has typically looked like at a certain time or day. This is useful for understanding general patterns, but it doesn't give you a precise prediction for a future moment in time with specific conditions (like the exact hour, day, and even potentially weather, if that feature were included).\n",
        "\n",
        "A model, on the other hand, takes these historical patterns and uses them to make an educated guess about a specific future instance. It considers the interplay of multiple factors simultaneously (junction, hour, day, weekend status, etc.) to give a single predicted number. This is valuable because it allows for more targeted and timely interventions. Instead of just knowing that 8 AM on a Wednesday is usually busy, the model can potentially tell you how busy it's likely to be, enabling more precise resource allocation and decision-making. It moves from understanding general behavior to predicting a specific outcome.\n",
        "\n",
        "\n",
        "---\n",
        "\n"
      ],
      "metadata": {
        "id": "iT91g3LUrGiu"
      }
    },
    {
      "cell_type": "markdown",
      "source": [
        "**SECTION G**: Visualization & Insights"
      ],
      "metadata": {
        "id": "g8WIL0bVs9z_"
      }
    },
    {
      "cell_type": "code",
      "source": [],
      "metadata": {
        "id": "p5TUfCUBmqIV"
      },
      "execution_count": 174,
      "outputs": []
    },
    {
      "cell_type": "code",
      "metadata": {
        "colab": {
          "base_uri": "https://localhost:8080/",
          "height": 718
        },
        "id": "3efac254",
        "outputId": "dbb33457-6afc-4612-afd7-d16180ff5af1"
      },
      "source": [
        "plt.figure(figsize=(8, 8))\n",
        "plt.scatter(y_test, rf_preds, alpha=0.3)\n",
        "plt.plot([y_test.min(), y_test.max()], [y_test.min(), y_test.max()], 'r--', lw=2)\n",
        "plt.xlabel('Actual Vehicles')\n",
        "plt.ylabel('Predicted Vehicles')\n",
        "plt.title('Actual vs. Predicted Traffic Volume (Random Forest)')\n",
        "plt.grid(True)\n",
        "plt.show()"
      ],
      "execution_count": 175,
      "outputs": [
        {
          "output_type": "display_data",
          "data": {
            "text/plain": [
              "<Figure size 800x800 with 1 Axes>"
            ],
            "image/png": "[encoded data removed]"
          },
          "metadata": {}
        }
      ]
    },
    {
      "cell_type": "markdown",
      "source": [
        "**`Analysis of Random Forest Model Results`**\n",
        "\n",
        "1. Scatter Plot (Actual vs Predicted):\n",
        "   - The scatter plot shows a general trend where higher actual values correspond to higher predicted values.\n",
        "   - However, the points are scattered, indicating that the model's predictions are not perfectly aligned with the actual values.\n",
        "   - There is noticeable spread, especially at higher traffic volumes, suggesting the model struggles more with predicting peak traffic.\n",
        "\n",
        "2. Model Evaluation Metrics (Random Forest):\n",
        "   - RMSE (8.95): This value represents the typical difference between the predicted and actual traffic volumes. An RMSE of 8.95 means the predictions are, on average, off by about 8.95 vehicles.\n",
        "   - R² (0.194): This metric indicates the proportion of the variance in the actual traffic volume that the model can explain. An R² of 0.194 suggests the model explains only a small portion (19.4%) of the variability in traffic.\n",
        "   - Compared to Linear Regression (RMSE: 18.25, R²: -2.352), Random Forest is better, but the R² is still quite low, indicating room for improvement.\n",
        "\n",
        "3. Feature Importances:\n",
        "   - The most important feature is Junction, which makes sense as different junctions have different traffic levels.\n",
        "   - Hour is the second most important, capturing daily traffic patterns like rush hours.\n",
        "   - DayOfWeek and Weekend are less important but still contribute, reflecting weekday vs. weekend differences.\n",
        "\n",
        "Feature Importances from Random Forest Model:\n",
        "\n",
        "  - Junction     0.724368\n",
        "\n",
        "  - Hour         0.183322\n",
        "\n",
        "  - DayOfWeek    0.051387\n",
        "\n",
        "  - Weekend      0.040923\n",
        "\n",
        "  - dtype: float64\n",
        "\n",
        "4. Instance with Largest Prediction Error:\n",
        "   - The instance with the maximum absolute error occurred at index 2227, with an actual traffic of 180 and a predicted traffic of 16.70, resulting in an error of 163.30.\n",
        "   - This occurred at Hour 19, Junction -1.22, Day of Week -1.50, and Weekend status -1.\n",
        "   - The large error suggests this instance might represent an anomaly or an event not well-represented in the training data, such as a major accident or special event causing unusually high traffic at that specific time and location."
      ],
      "metadata": {
        "id": "ZMNfuiXytWb6"
      }
    },
    {
      "cell_type": "markdown",
      "source": [
        "**`How City Planners Can Use These Insights`**\n",
        "\n",
        "**Leveraging Model Predictions for Decision Making:**\n",
        "The Random Forest model, despite its limitations (as shown by the R²), provides valuable insights that city planners can use.\n",
        "1. Optimizing Traffic Flow:\n",
        "   - Knowing which hours (e.g., 7-9 AM, 5-7 PM, based on the hourly trend analysis) and which Junctions (the most important feature) are predicted to have the highest traffic volume allows planners to proactively adjust traffic light timings.\n",
        "   - Synchronizing traffic lights during peak hours at critical junctions can help manage traffic flow more efficiently and potentially reduce congestion.\n",
        "2. Resource Deployment:\n",
        "   - Predictions can guide the deployment of resources like traffic police to specific junctions and hours that are predicted to experience high traffic or are identified as having historically high variability/errors.\n",
        "   - This targeted approach is more effective than general deployment based on static schedules.\n",
        "3. Infrastructure Planning:\n",
        "   - The feature importance analysis highlighting 'Junction' as the most critical factor suggests that certain junctions are bottlenecks.\n",
        "   - City planners can use this to prioritize which junctions might require infrastructure improvements (e.g., adding lanes, redesigning intersections) to handle the volume.\n",
        "4. Identifying Anomalies and Areas for Investigation:\n",
        "   - The analysis of instances with large prediction errors (like the one at index 2227) is crucial.\n",
        "   - These instances represent situations where the actual traffic significantly deviated from the predicted traffic. This could be due to unmodeled events (accidents, special events, construction).\n",
        "   - Planners can investigate these specific times and locations to understand the root causes of these anomalies. This information can inform future data collection (e.g., incorporating event data) or lead to the development of protocols for managing traffic during such unforeseen circumstances.\n",
        "5. Moving Beyond Historical Averages:\n",
        "   - While historical charts and averages show general patterns, the model provides a prediction for a specific future time and location, considering the combined effect of multiple features.\n",
        "   - This allows for more dynamic and precise decision-making compared to relying solely on past trends."
      ],
      "metadata": {
        "id": "G5Tbb7qrui_b"
      }
    },
    {
      "cell_type": "markdown",
      "metadata": {
        "id": "e073c72d"
      },
      "source": [
        "**`Summary:`**\n",
        "\n",
        "**Data Analysis Key Findings**\n",
        "\n",
        "*   The scatter plot shows a general positive correlation between actual and predicted traffic volumes, but with significant spread, particularly at higher volumes. This indicates the model captures the trend but struggles with precise predictions during peak traffic.\n",
        "*   The Random Forest model has an RMSE of 8.95, meaning predictions are typically off by about 8.95 vehicles.\n",
        "*   The R² value of 0.194 suggests the model explains only about 19.4% of the variance in traffic volume, indicating a substantial portion of variability is not captured.\n",
        "*   'Junction' is the most important feature for prediction, followed by 'Hour', 'DayOfWeek', and 'Weekend', aligning with expected traffic pattern drivers.\n",
        "*   Analysis of large prediction errors, such as an instance where actual traffic was 180 and predicted was 16.70, suggests the model struggles with anomalies or events not well-represented in the data.\n",
        "\n",
        "**Insights or Next Steps**\n",
        "\n",
        "*   The model's predictions, despite limitations, can help optimize traffic light timings at critical junctions during peak hours and guide targeted deployment of traffic management resources.\n",
        "*   Identifying junctions with high importance or large prediction errors can prioritize infrastructure improvements and trigger investigations into specific anomalies to understand root causes and inform future data collection or event management protocols.\n",
        "\n",
        "\n",
        "---\n",
        "\n"
      ]
    },
    {
      "cell_type": "markdown",
      "source": [
        "**SECTION H**: Advanced Challenge"
      ],
      "metadata": {
        "id": "_i03Jh74x_5B"
      }
    },
    {
      "cell_type": "code",
      "source": [],
      "metadata": {
        "id": "2E1OhOpoyT9T"
      },
      "execution_count": 175,
      "outputs": []
    },
    {
      "cell_type": "code",
      "metadata": {
        "colab": {
          "base_uri": "https://localhost:8080/"
        },
        "id": "c79096f0",
        "outputId": "44d4df00-247a-4ef6-e9a9-2645c20d74db"
      },
      "source": [
        "def create_sequences(X, y, time_steps):\n",
        "    Xs, ys = [], []\n",
        "    for i in range(len(X) - time_steps):\n",
        "        v = X[i:(i + time_steps)]\n",
        "        Xs.append(v)\n",
        "        ys.append(y[i + time_steps])\n",
        "    return np.array(Xs), np.array(ys)\n",
        "\n",
        "time_steps = 24\n",
        "\n",
        "X_train_reshaped, y_train_reshaped = create_sequences(X_train, y_train, time_steps)\n",
        "X_test_reshaped, y_test_reshaped = create_sequences(X_test, y_test, time_steps)\n",
        "\n",
        "print(\"Original X_train shape:\", X_train.shape)\n",
        "print(\"Reshaped X_train shape:\", X_train_reshaped.shape)\n",
        "print(\"Original y_train shape:\", y_train.shape)\n",
        "print(\"Reshaped y_train shape:\", y_train_reshaped.shape)\n",
        "print(\"\\nOriginal X_test shape:\", X_test.shape)\n",
        "print(\"Reshaped X_test shape:\", X_test_reshaped.shape)\n",
        "print(\"Original y_test shape:\", y_test.shape)\n",
        "print(\"Reshaped y_test shape:\", y_test_reshaped.shape)"
      ],
      "execution_count": 176,
      "outputs": [
        {
          "output_type": "stream",
          "name": "stdout",
          "text": [
            "Original X_train shape: (38496, 4)\n",
            "Reshaped X_train shape: (38472, 24, 4)\n",
            "Original y_train shape: (38496,)\n",
            "Reshaped y_train shape: (38472,)\n",
            "\n",
            "Original X_test shape: (9624, 4)\n",
            "Reshaped X_test shape: (9600, 24, 4)\n",
            "Original y_test shape: (9624,)\n",
            "Reshaped y_test shape: (9600,)\n"
          ]
        }
      ]
    },
    {
      "cell_type": "code",
      "metadata": {
        "colab": {
          "base_uri": "https://localhost:8080/",
          "height": 260
        },
        "id": "a81f4def",
        "outputId": "c0ba004b-6a34-4a6a-a2fe-373b1ce4b1c1"
      },
      "source": [
        "from tensorflow.keras.models import Sequential\n",
        "from tensorflow.keras.layers import GRU, Dense\n",
        "\n",
        "model = Sequential()\n",
        "model.add(GRU(units=50, activation='relu', input_shape=(time_steps, X_train_reshaped.shape[2])))\n",
        "model.add(Dense(units=1))\n",
        "\n",
        "model.compile(optimizer='adam', loss='mean_squared_error')\n",
        "\n",
        "model.summary()"
      ],
      "execution_count": 177,
      "outputs": [
        {
          "output_type": "stream",
          "name": "stderr",
          "text": [
            "/usr/local/lib/python3.12/dist-packages/keras/src/layers/rnn/rnn.py:199: UserWarning: Do not pass an `input_shape`/`input_dim` argument to a layer. When using Sequential models, prefer using an `Input(shape)` object as the first layer in the model instead.\n",
            "  super().__init__(**kwargs)\n"
          ]
        },
        {
          "output_type": "display_data",
          "data": {
            "text/plain": [
              "\u001b[1mModel: \"sequential_4\"\u001b[0m\n"
            ],
            "text/html": [
              "<pre style=\"white-space:pre;overflow-x:auto;line-height:normal;font-family:Menlo,'DejaVu Sans Mono',consolas,'Courier New',monospace\"><span style=\"font-weight: bold\">Model: \"sequential_4\"</span>\n",
              "</pre>\n"
            ]
          },
          "metadata": {}
        },
        {
          "output_type": "display_data",
          "data": {
            "text/plain": [
              "┏━━━━━━━━━━━━━━━━━━━━━━━━━━━━━━━━━┳━━━━━━━━━━━━━━━━━━━━━━━━┳━━━━━━━━━━━━━━━┓\n",
              "┃\u001b[1m \u001b[0m\u001b[1mLayer (type)                   \u001b[0m\u001b[1m \u001b[0m┃\u001b[1m \u001b[0m\u001b[1mOutput Shape          \u001b[0m\u001b[1m \u001b[0m┃\u001b[1m \u001b[0m\u001b[1m      Param #\u001b[0m\u001b[1m \u001b[0m┃\n",
              "┡━━━━━━━━━━━━━━━━━━━━━━━━━━━━━━━━━╇━━━━━━━━━━━━━━━━━━━━━━━━╇━━━━━━━━━━━━━━━┩\n",
              "│ gru_4 (\u001b[38;5;33mGRU\u001b[0m)                     │ (\u001b[38;5;45mNone\u001b[0m, \u001b[38;5;34m50\u001b[0m)             │         \u001b[38;5;34m8,400\u001b[0m │\n",
              "├─────────────────────────────────┼────────────────────────┼───────────────┤\n",
              "│ dense_4 (\u001b[38;5;33mDense\u001b[0m)                 │ (\u001b[38;5;45mNone\u001b[0m, \u001b[38;5;34m1\u001b[0m)              │            \u001b[38;5;34m51\u001b[0m │\n",
              "└─────────────────────────────────┴────────────────────────┴───────────────┘\n"
            ],
            "text/html": [
              "<pre style=\"white-space:pre;overflow-x:auto;line-height:normal;font-family:Menlo,'DejaVu Sans Mono',consolas,'Courier New',monospace\">┏━━━━━━━━━━━━━━━━━━━━━━━━━━━━━━━━━┳━━━━━━━━━━━━━━━━━━━━━━━━┳━━━━━━━━━━━━━━━┓\n",
              "┃<span style=\"font-weight: bold\"> Layer (type)                    </span>┃<span style=\"font-weight: bold\"> Output Shape           </span>┃<span style=\"font-weight: bold\">       Param # </span>┃\n",
              "┡━━━━━━━━━━━━━━━━━━━━━━━━━━━━━━━━━╇━━━━━━━━━━━━━━━━━━━━━━━━╇━━━━━━━━━━━━━━━┩\n",
              "│ gru_4 (<span style=\"color: #0087ff; text-decoration-color: #0087ff\">GRU</span>)                     │ (<span style=\"color: #00d7ff; text-decoration-color: #00d7ff\">None</span>, <span style=\"color: #00af00; text-decoration-color: #00af00\">50</span>)             │         <span style=\"color: #00af00; text-decoration-color: #00af00\">8,400</span> │\n",
              "├─────────────────────────────────┼────────────────────────┼───────────────┤\n",
              "│ dense_4 (<span style=\"color: #0087ff; text-decoration-color: #0087ff\">Dense</span>)                 │ (<span style=\"color: #00d7ff; text-decoration-color: #00d7ff\">None</span>, <span style=\"color: #00af00; text-decoration-color: #00af00\">1</span>)              │            <span style=\"color: #00af00; text-decoration-color: #00af00\">51</span> │\n",
              "└─────────────────────────────────┴────────────────────────┴───────────────┘\n",
              "</pre>\n"
            ]
          },
          "metadata": {}
        },
        {
          "output_type": "display_data",
          "data": {
            "text/plain": [
              "\u001b[1m Total params: \u001b[0m\u001b[38;5;34m8,451\u001b[0m (33.01 KB)\n"
            ],
            "text/html": [
              "<pre style=\"white-space:pre;overflow-x:auto;line-height:normal;font-family:Menlo,'DejaVu Sans Mono',consolas,'Courier New',monospace\"><span style=\"font-weight: bold\"> Total params: </span><span style=\"color: #00af00; text-decoration-color: #00af00\">8,451</span> (33.01 KB)\n",
              "</pre>\n"
            ]
          },
          "metadata": {}
        },
        {
          "output_type": "display_data",
          "data": {
            "text/plain": [
              "\u001b[1m Trainable params: \u001b[0m\u001b[38;5;34m8,451\u001b[0m (33.01 KB)\n"
            ],
            "text/html": [
              "<pre style=\"white-space:pre;overflow-x:auto;line-height:normal;font-family:Menlo,'DejaVu Sans Mono',consolas,'Courier New',monospace\"><span style=\"font-weight: bold\"> Trainable params: </span><span style=\"color: #00af00; text-decoration-color: #00af00\">8,451</span> (33.01 KB)\n",
              "</pre>\n"
            ]
          },
          "metadata": {}
        },
        {
          "output_type": "display_data",
          "data": {
            "text/plain": [
              "\u001b[1m Non-trainable params: \u001b[0m\u001b[38;5;34m0\u001b[0m (0.00 B)\n"
            ],
            "text/html": [
              "<pre style=\"white-space:pre;overflow-x:auto;line-height:normal;font-family:Menlo,'DejaVu Sans Mono',consolas,'Courier New',monospace\"><span style=\"font-weight: bold\"> Non-trainable params: </span><span style=\"color: #00af00; text-decoration-color: #00af00\">0</span> (0.00 B)\n",
              "</pre>\n"
            ]
          },
          "metadata": {}
        }
      ]
    },
    {
      "cell_type": "code",
      "metadata": {
        "id": "30bd9d9b"
      },
      "source": [
        "history = model.fit(X_train_reshaped, y_train_reshaped, epochs=50, batch_size=32, verbose=0)"
      ],
      "execution_count": 178,
      "outputs": []
    },
    {
      "cell_type": "code",
      "metadata": {
        "colab": {
          "base_uri": "https://localhost:8080/"
        },
        "id": "8a3d86eb",
        "outputId": "1ba8310a-5c7f-488f-d352-a7e1850b6eed"
      },
      "source": [
        "sequential_preds = model.predict(X_test_reshaped)\n",
        "\n",
        "sequential_rmse = sqrt(mean_squared_error(y_test_reshaped, sequential_preds))\n",
        "sequential_r2 = r2_score(y_test_reshaped, sequential_preds)\n",
        "\n",
        "print(f\"\\nSequential Model (GRU/LSTM) -> RMSE: {sequential_rmse:.2f}, R²: {sequential_r2:.3f}\")"
      ],
      "execution_count": 179,
      "outputs": [
        {
          "output_type": "stream",
          "name": "stdout",
          "text": [
            "\u001b[1m300/300\u001b[0m \u001b[32m━━━━━━━━━━━━━━━━━━━━\u001b[0m\u001b[37m\u001b[0m \u001b[1m1s\u001b[0m 3ms/step\n",
            "\n",
            "Sequential Model (GRU/LSTM) -> RMSE: 8.70, R²: 0.235\n"
          ]
        }
      ]
    },
    {
      "cell_type": "code",
      "metadata": {
        "colab": {
          "base_uri": "https://localhost:8080/",
          "height": 230
        },
        "id": "347fb446",
        "outputId": "003b8771-170a-4f06-c64f-ebba87b9f926"
      },
      "source": [
        "performance_metrics = pd.DataFrame({\n",
        "    'Model': ['Linear Regression', 'Random Forest', 'Sequential Model'],\n",
        "    'RMSE': [lr_rmse, rf_rmse, sequential_rmse],\n",
        "    'R²': [lr_r2, rf_r2, sequential_r2]\n",
        "})\n",
        "\n",
        "print(\"\\nModel Performance Comparison:\")\n",
        "display(performance_metrics)\n",
        "\n",
        "best_model_rmse = performance_metrics.loc[performance_metrics['RMSE'].idxmin()]\n",
        "best_model_r2 = performance_metrics.loc[performance_metrics['R²'].idxmax()]\n",
        "\n",
        "print(f\"\\nBased on RMSE, the best performing model is: {best_model_rmse['Model']} (RMSE: {best_model_rmse['RMSE']:.2f})\")\n",
        "print(f\"Based on R², the best performing model is: {best_model_r2['Model']} (R²: {best_model_r2['R²']:.3f})\")"
      ],
      "execution_count": 180,
      "outputs": [
        {
          "output_type": "stream",
          "name": "stdout",
          "text": [
            "\n",
            "Model Performance Comparison:\n"
          ]
        },
        {
          "output_type": "display_data",
          "data": {
            "text/plain": [
              "               Model       RMSE        R²\n",
              "0  Linear Regression  18.247201 -2.351557\n",
              "1      Random Forest   8.950267  0.193645\n",
              "2   Sequential Model   8.702398  0.234661"
            ],
            "text/html": [
              "\n",
              "  <div id=\"df-ebc7d24c-844e-4aa0-a58e-6927b2bcd634\" class=\"colab-df-container\">\n",
              "    <div>\n",
              "<style scoped>\n",
              "    .dataframe tbody tr th:only-of-type {\n",
              "        vertical-align: middle;\n",
              "    }\n",
              "\n",
              "    .dataframe tbody tr th {\n",
              "        vertical-align: top;\n",
              "    }\n",
              "\n",
              "    .dataframe thead th {\n",
              "        text-align: right;\n",
              "    }\n",
              "</style>\n",
              "<table border=\"1\" class=\"dataframe\">\n",
              "  <thead>\n",
              "    <tr style=\"text-align: right;\">\n",
              "      <th></th>\n",
              "      <th>Model</th>\n",
              "      <th>RMSE</th>\n",
              "      <th>R²</th>\n",
              "    </tr>\n",
              "  </thead>\n",
              "  <tbody>\n",
              "    <tr>\n",
              "      <th>0</th>\n",
              "      <td>Linear Regression</td>\n",
              "      <td>18.247201</td>\n",
              "      <td>-2.351557</td>\n",
              "    </tr>\n",
              "    <tr>\n",
              "      <th>1</th>\n",
              "      <td>Random Forest</td>\n",
              "      <td>8.950267</td>\n",
              "      <td>0.193645</td>\n",
              "    </tr>\n",
              "    <tr>\n",
              "      <th>2</th>\n",
              "      <td>Sequential Model</td>\n",
              "      <td>8.702398</td>\n",
              "      <td>0.234661</td>\n",
              "    </tr>\n",
              "  </tbody>\n",
              "</table>\n",
              "</div>\n",
              "    <div class=\"colab-df-buttons\">\n",
              "\n",
              "  <div class=\"colab-df-container\">\n",
              "    <button class=\"colab-df-convert\" onclick=\"convertToInteractive('df-ebc7d24c-844e-4aa0-a58e-6927b2bcd634')\"\n",
              "            title=\"Convert this dataframe to an interactive table.\"\n",
              "            style=\"display:none;\">\n",
              "\n",
              "  <svg xmlns=\"http://www.w3.org/2000/svg\" height=\"24px\" viewBox=\"0 -960 960 960\">\n",
              "    <path d=\"M120-120v-720h720v720H120Zm60-500h600v-160H180v160Zm220 220h160v-160H400v160Zm0 220h160v-160H400v160ZM180-400h160v-160H180v160Zm440 0h160v-160H620v160ZM180-180h160v-160H180v160Zm440 0h160v-160H620v160Z\"/>\n",
              "  </svg>\n",
              "    </button>\n",
              "\n",
              "  <style>\n",
              "    .colab-df-container {\n",
              "      display:flex;\n",
              "      gap: 12px;\n",
              "    }\n",
              "\n",
              "    .colab-df-convert {\n",
              "      background-color: #E8F0FE;\n",
              "      border: none;\n",
              "      border-radius: 50%;\n",
              "      cursor: pointer;\n",
              "      display: none;\n",
              "      fill: #1967D2;\n",
              "      height: 32px;\n",
              "      padding: 0 0 0 0;\n",
              "      width: 32px;\n",
              "    }\n",
              "\n",
              "    .colab-df-convert:hover {\n",
              "      background-color: #E2EBFA;\n",
              "      box-shadow: 0px 1px 2px rgba(60, 64, 67, 0.3), 0px 1px 3px 1px rgba(60, 64, 67, 0.15);\n",
              "      fill: #174EA6;\n",
              "    }\n",
              "\n",
              "    .colab-df-buttons div {\n",
              "      margin-bottom: 4px;\n",
              "    }\n",
              "\n",
              "    [theme=dark] .colab-df-convert {\n",
              "      background-color: #3B4455;\n",
              "      fill: #D2E3FC;\n",
              "    }\n",
              "\n",
              "    [theme=dark] .colab-df-convert:hover {\n",
              "      background-color: #434B5C;\n",
              "      box-shadow: 0px 1px 3px 1px rgba(0, 0, 0, 0.15);\n",
              "      filter: drop-shadow(0px 1px 2px rgba(0, 0, 0, 0.3));\n",
              "      fill: #FFFFFF;\n",
              "    }\n",
              "  </style>\n",
              "\n",
              "    <script>\n",
              "      const buttonEl =\n",
              "        document.querySelector('#df-ebc7d24c-844e-4aa0-a58e-6927b2bcd634 button.colab-df-convert');\n",
              "      buttonEl.style.display =\n",
              "        google.colab.kernel.accessAllowed ? 'block' : 'none';\n",
              "\n",
              "      async function convertToInteractive(key) {\n",
              "        const element = document.querySelector('#df-ebc7d24c-844e-4aa0-a58e-6927b2bcd634');\n",
              "        const dataTable =\n",
              "          await google.colab.kernel.invokeFunction('convertToInteractive',\n",
              "                                                    [key], {});\n",
              "        if (!dataTable) return;\n",
              "\n",
              "        const docLinkHtml = 'Like what you see? Visit the ' +\n",
              "          '<a target=\"_blank\" href=https://colab.research.google.com/notebooks/data_table.ipynb>data table notebook</a>'\n",
              "          + ' to learn more about interactive tables.';\n",
              "        element.innerHTML = '';\n",
              "        dataTable['output_type'] = 'display_data';\n",
              "        await google.colab.output.renderOutput(dataTable, element);\n",
              "        const docLink = document.createElement('div');\n",
              "        docLink.innerHTML = docLinkHtml;\n",
              "        element.appendChild(docLink);\n",
              "      }\n",
              "    </script>\n",
              "  </div>\n",
              "\n",
              "\n",
              "    <div id=\"df-953454db-711c-4c28-b68b-9a8739504661\">\n",
              "      <button class=\"colab-df-quickchart\" onclick=\"quickchart('df-953454db-711c-4c28-b68b-9a8739504661')\"\n",
              "                title=\"Suggest charts\"\n",
              "                style=\"display:none;\">\n",
              "\n",
              "<svg xmlns=\"http://www.w3.org/2000/svg\" height=\"24px\"viewBox=\"0 0 24 24\"\n",
              "     width=\"24px\">\n",
              "    <g>\n",
              "        <path d=\"M19 3H5c-1.1 0-2 .9-2 2v14c0 1.1.9 2 2 2h14c1.1 0 2-.9 2-2V5c0-1.1-.9-2-2-2zM9 17H7v-7h2v7zm4 0h-2V7h2v10zm4 0h-2v-4h2v4z\"/>\n",
              "    </g>\n",
              "</svg>\n",
              "      </button>\n",
              "\n",
              "<style>\n",
              "  .colab-df-quickchart {\n",
              "      --bg-color: #E8F0FE;\n",
              "      --fill-color: #1967D2;\n",
              "      --hover-bg-color: #E2EBFA;\n",
              "      --hover-fill-color: #174EA6;\n",
              "      --disabled-fill-color: #AAA;\n",
              "      --disabled-bg-color: #DDD;\n",
              "  }\n",
              "\n",
              "  [theme=dark] .colab-df-quickchart {\n",
              "      --bg-color: #3B4455;\n",
              "      --fill-color: #D2E3FC;\n",
              "      --hover-bg-color: #434B5C;\n",
              "      --hover-fill-color: #FFFFFF;\n",
              "      --disabled-bg-color: #3B4455;\n",
              "      --disabled-fill-color: #666;\n",
              "  }\n",
              "\n",
              "  .colab-df-quickchart {\n",
              "    background-color: var(--bg-color);\n",
              "    border: none;\n",
              "    border-radius: 50%;\n",
              "    cursor: pointer;\n",
              "    display: none;\n",
              "    fill: var(--fill-color);\n",
              "    height: 32px;\n",
              "    padding: 0;\n",
              "    width: 32px;\n",
              "  }\n",
              "\n",
              "  .colab-df-quickchart:hover {\n",
              "    background-color: var(--hover-bg-color);\n",
              "    box-shadow: 0 1px 2px rgba(60, 64, 67, 0.3), 0 1px 3px 1px rgba(60, 64, 67, 0.15);\n",
              "    fill: var(--button-hover-fill-color);\n",
              "  }\n",
              "\n",
              "  .colab-df-quickchart-complete:disabled,\n",
              "  .colab-df-quickchart-complete:disabled:hover {\n",
              "    background-color: var(--disabled-bg-color);\n",
              "    fill: var(--disabled-fill-color);\n",
              "    box-shadow: none;\n",
              "  }\n",
              "\n",
              "  .colab-df-spinner {\n",
              "    border: 2px solid var(--fill-color);\n",
              "    border-color: transparent;\n",
              "    border-bottom-color: var(--fill-color);\n",
              "    animation:\n",
              "      spin 1s steps(1) infinite;\n",
              "  }\n",
              "\n",
              "  @keyframes spin {\n",
              "    0% {\n",
              "      border-color: transparent;\n",
              "      border-bottom-color: var(--fill-color);\n",
              "      border-left-color: var(--fill-color);\n",
              "    }\n",
              "    20% {\n",
              "      border-color: transparent;\n",
              "      border-left-color: var(--fill-color);\n",
              "      border-top-color: var(--fill-color);\n",
              "    }\n",
              "    30% {\n",
              "      border-color: transparent;\n",
              "      border-left-color: var(--fill-color);\n",
              "      border-top-color: var(--fill-color);\n",
              "      border-right-color: var(--fill-color);\n",
              "    }\n",
              "    40% {\n",
              "      border-color: transparent;\n",
              "      border-right-color: var(--fill-color);\n",
              "      border-top-color: var(--fill-color);\n",
              "    }\n",
              "    60% {\n",
              "      border-color: transparent;\n",
              "      border-right-color: var(--fill-color);\n",
              "    }\n",
              "    80% {\n",
              "      border-color: transparent;\n",
              "      border-right-color: var(--fill-color);\n",
              "      border-bottom-color: var(--fill-color);\n",
              "    }\n",
              "    90% {\n",
              "      border-color: transparent;\n",
              "      border-bottom-color: var(--fill-color);\n",
              "    }\n",
              "  }\n",
              "</style>\n",
              "\n",
              "      <script>\n",
              "        async function quickchart(key) {\n",
              "          const quickchartButtonEl =\n",
              "            document.querySelector('#' + key + ' button');\n",
              "          quickchartButtonEl.disabled = true;  // To prevent multiple clicks.\n",
              "          quickchartButtonEl.classList.add('colab-df-spinner');\n",
              "          try {\n",
              "            const charts = await google.colab.kernel.invokeFunction(\n",
              "                'suggestCharts', [key], {});\n",
              "          } catch (error) {\n",
              "            console.error('Error during call to suggestCharts:', error);\n",
              "          }\n",
              "          quickchartButtonEl.classList.remove('colab-df-spinner');\n",
              "          quickchartButtonEl.classList.add('colab-df-quickchart-complete');\n",
              "        }\n",
              "        (() => {\n",
              "          let quickchartButtonEl =\n",
              "            document.querySelector('#df-953454db-711c-4c28-b68b-9a8739504661 button');\n",
              "          quickchartButtonEl.style.display =\n",
              "            google.colab.kernel.accessAllowed ? 'block' : 'none';\n",
              "        })();\n",
              "      </script>\n",
              "    </div>\n",
              "\n",
              "  <div id=\"id_468d1bf5-4641-4672-bd41-586535da273b\">\n",
              "    <style>\n",
              "      .colab-df-generate {\n",
              "        background-color: #E8F0FE;\n",
              "        border: none;\n",
              "        border-radius: 50%;\n",
              "        cursor: pointer;\n",
              "        display: none;\n",
              "        fill: #1967D2;\n",
              "        height: 32px;\n",
              "        padding: 0 0 0 0;\n",
              "        width: 32px;\n",
              "      }\n",
              "\n",
              "      .colab-df-generate:hover {\n",
              "        background-color: #E2EBFA;\n",
              "        box-shadow: 0px 1px 2px rgba(60, 64, 67, 0.3), 0px 1px 3px 1px rgba(60, 64, 67, 0.15);\n",
              "        fill: #174EA6;\n",
              "      }\n",
              "\n",
              "      [theme=dark] .colab-df-generate {\n",
              "        background-color: #3B4455;\n",
              "        fill: #D2E3FC;\n",
              "      }\n",
              "\n",
              "      [theme=dark] .colab-df-generate:hover {\n",
              "        background-color: #434B5C;\n",
              "        box-shadow: 0px 1px 3px 1px rgba(0, 0, 0, 0.15);\n",
              "        filter: drop-shadow(0px 1px 2px rgba(0, 0, 0, 0.3));\n",
              "        fill: #FFFFFF;\n",
              "      }\n",
              "    </style>\n",
              "    <button class=\"colab-df-generate\" onclick=\"generateWithVariable('performance_metrics')\"\n",
              "            title=\"Generate code using this dataframe.\"\n",
              "            style=\"display:none;\">\n",
              "\n",
              "  <svg xmlns=\"http://www.w3.org/2000/svg\" height=\"24px\"viewBox=\"0 0 24 24\"\n",
              "       width=\"24px\">\n",
              "    <path d=\"M7,19H8.4L18.45,9,17,7.55,7,17.6ZM5,21V16.75L18.45,3.32a2,2,0,0,1,2.83,0l1.4,1.43a1.91,1.91,0,0,1,.58,1.4,1.91,1.91,0,0,1-.58,1.4L9.25,21ZM18.45,9,17,7.55Zm-12,3A5.31,5.31,0,0,0,4.9,8.1,5.31,5.31,0,0,0,1,6.5,5.31,5.31,0,0,0,4.9,4.9,5.31,5.31,0,0,0,6.5,1,5.31,5.31,0,0,0,8.1,4.9,5.31,5.31,0,0,0,12,6.5,5.46,5.46,0,0,0,6.5,12Z\"/>\n",
              "  </svg>\n",
              "    </button>\n",
              "    <script>\n",
              "      (() => {\n",
              "      const buttonEl =\n",
              "        document.querySelector('#id_468d1bf5-4641-4672-bd41-586535da273b button.colab-df-generate');\n",
              "      buttonEl.style.display =\n",
              "        google.colab.kernel.accessAllowed ? 'block' : 'none';\n",
              "\n",
              "      buttonEl.onclick = () => {\n",
              "        google.colab.notebook.generateWithVariable('performance_metrics');\n",
              "      }\n",
              "      })();\n",
              "    </script>\n",
              "  </div>\n",
              "\n",
              "    </div>\n",
              "  </div>\n"
            ],
            "application/vnd.google.colaboratory.intrinsic+json": {
              "type": "dataframe",
              "variable_name": "performance_metrics",
              "summary": "{\n  \"name\": \"performance_metrics\",\n  \"rows\": 3,\n  \"fields\": [\n    {\n      \"column\": \"Model\",\n      \"properties\": {\n        \"dtype\": \"string\",\n        \"num_unique_values\": 3,\n        \"samples\": [\n          \"Linear Regression\",\n          \"Random Forest\",\n          \"Sequential Model\"\n        ],\n        \"semantic_type\": \"\",\n        \"description\": \"\"\n      }\n    },\n    {\n      \"column\": \"RMSE\",\n      \"properties\": {\n        \"dtype\": \"number\",\n        \"std\": 5.440552964418606,\n        \"min\": 8.702397807506713,\n        \"max\": 18.24720130733791,\n        \"num_unique_values\": 3,\n        \"samples\": [\n          18.24720130733791,\n          8.950267063546304,\n          8.702397807506713\n        ],\n        \"semantic_type\": \"\",\n        \"description\": \"\"\n      }\n    },\n    {\n      \"column\": \"R\\u00b2\",\n      \"properties\": {\n        \"dtype\": \"number\",\n        \"std\": 1.481455489466304,\n        \"min\": -2.3515570687412075,\n        \"max\": 0.23466110229492188,\n        \"num_unique_values\": 3,\n        \"samples\": [\n          -2.3515570687412075,\n          0.19364537617999733,\n          0.23466110229492188\n        ],\n        \"semantic_type\": \"\",\n        \"description\": \"\"\n      }\n    }\n  ]\n}"
            }
          },
          "metadata": {}
        },
        {
          "output_type": "stream",
          "name": "stdout",
          "text": [
            "\n",
            "Based on RMSE, the best performing model is: Sequential Model (RMSE: 8.70)\n",
            "Based on R², the best performing model is: Sequential Model (R²: 0.235)\n"
          ]
        }
      ]
    },
    {
      "cell_type": "code",
      "metadata": {
        "colab": {
          "base_uri": "https://localhost:8080/",
          "height": 213
        },
        "id": "5226573e",
        "outputId": "38e26ac0-d497-450a-b993-dd4c6ee6e4d4"
      },
      "source": [
        "print(\"\\n--- Summary of Model Performance Comparison ---\")\n",
        "print(\"The performance of the three models (Linear Regression, Random Forest, and Sequential Model) were compared using RMSE and R² metrics.\")\n",
        "print(\"Based on the metrics:\")\n",
        "display(performance_metrics)"
      ],
      "execution_count": 182,
      "outputs": [
        {
          "output_type": "stream",
          "name": "stdout",
          "text": [
            "\n",
            "--- Summary of Model Performance Comparison ---\n",
            "The performance of the three models (Linear Regression, Random Forest, and Sequential Model) were compared using RMSE and R² metrics.\n",
            "Based on the metrics:\n"
          ]
        },
        {
          "output_type": "display_data",
          "data": {
            "text/plain": [
              "               Model       RMSE        R²\n",
              "0  Linear Regression  18.247201 -2.351557\n",
              "1      Random Forest   8.950267  0.193645\n",
              "2   Sequential Model   8.702398  0.234661"
            ],
            "text/html": [
              "\n",
              "  <div id=\"df-007f47e2-d649-45f8-adf1-e363f8c4d83a\" class=\"colab-df-container\">\n",
              "    <div>\n",
              "<style scoped>\n",
              "    .dataframe tbody tr th:only-of-type {\n",
              "        vertical-align: middle;\n",
              "    }\n",
              "\n",
              "    .dataframe tbody tr th {\n",
              "        vertical-align: top;\n",
              "    }\n",
              "\n",
              "    .dataframe thead th {\n",
              "        text-align: right;\n",
              "    }\n",
              "</style>\n",
              "<table border=\"1\" class=\"dataframe\">\n",
              "  <thead>\n",
              "    <tr style=\"text-align: right;\">\n",
              "      <th></th>\n",
              "      <th>Model</th>\n",
              "      <th>RMSE</th>\n",
              "      <th>R²</th>\n",
              "    </tr>\n",
              "  </thead>\n",
              "  <tbody>\n",
              "    <tr>\n",
              "      <th>0</th>\n",
              "      <td>Linear Regression</td>\n",
              "      <td>18.247201</td>\n",
              "      <td>-2.351557</td>\n",
              "    </tr>\n",
              "    <tr>\n",
              "      <th>1</th>\n",
              "      <td>Random Forest</td>\n",
              "      <td>8.950267</td>\n",
              "      <td>0.193645</td>\n",
              "    </tr>\n",
              "    <tr>\n",
              "      <th>2</th>\n",
              "      <td>Sequential Model</td>\n",
              "      <td>8.702398</td>\n",
              "      <td>0.234661</td>\n",
              "    </tr>\n",
              "  </tbody>\n",
              "</table>\n",
              "</div>\n",
              "    <div class=\"colab-df-buttons\">\n",
              "\n",
              "  <div class=\"colab-df-container\">\n",
              "    <button class=\"colab-df-convert\" onclick=\"convertToInteractive('df-007f47e2-d649-45f8-adf1-e363f8c4d83a')\"\n",
              "            title=\"Convert this dataframe to an interactive table.\"\n",
              "            style=\"display:none;\">\n",
              "\n",
              "  <svg xmlns=\"http://www.w3.org/2000/svg\" height=\"24px\" viewBox=\"0 -960 960 960\">\n",
              "    <path d=\"M120-120v-720h720v720H120Zm60-500h600v-160H180v160Zm220 220h160v-160H400v160Zm0 220h160v-160H400v160ZM180-400h160v-160H180v160Zm440 0h160v-160H620v160ZM180-180h160v-160H180v160Zm440 0h160v-160H620v160Z\"/>\n",
              "  </svg>\n",
              "    </button>\n",
              "\n",
              "  <style>\n",
              "    .colab-df-container {\n",
              "      display:flex;\n",
              "      gap: 12px;\n",
              "    }\n",
              "\n",
              "    .colab-df-convert {\n",
              "      background-color: #E8F0FE;\n",
              "      border: none;\n",
              "      border-radius: 50%;\n",
              "      cursor: pointer;\n",
              "      display: none;\n",
              "      fill: #1967D2;\n",
              "      height: 32px;\n",
              "      padding: 0 0 0 0;\n",
              "      width: 32px;\n",
              "    }\n",
              "\n",
              "    .colab-df-convert:hover {\n",
              "      background-color: #E2EBFA;\n",
              "      box-shadow: 0px 1px 2px rgba(60, 64, 67, 0.3), 0px 1px 3px 1px rgba(60, 64, 67, 0.15);\n",
              "      fill: #174EA6;\n",
              "    }\n",
              "\n",
              "    .colab-df-buttons div {\n",
              "      margin-bottom: 4px;\n",
              "    }\n",
              "\n",
              "    [theme=dark] .colab-df-convert {\n",
              "      background-color: #3B4455;\n",
              "      fill: #D2E3FC;\n",
              "    }\n",
              "\n",
              "    [theme=dark] .colab-df-convert:hover {\n",
              "      background-color: #434B5C;\n",
              "      box-shadow: 0px 1px 3px 1px rgba(0, 0, 0, 0.15);\n",
              "      filter: drop-shadow(0px 1px 2px rgba(0, 0, 0, 0.3));\n",
              "      fill: #FFFFFF;\n",
              "    }\n",
              "  </style>\n",
              "\n",
              "    <script>\n",
              "      const buttonEl =\n",
              "        document.querySelector('#df-007f47e2-d649-45f8-adf1-e363f8c4d83a button.colab-df-convert');\n",
              "      buttonEl.style.display =\n",
              "        google.colab.kernel.accessAllowed ? 'block' : 'none';\n",
              "\n",
              "      async function convertToInteractive(key) {\n",
              "        const element = document.querySelector('#df-007f47e2-d649-45f8-adf1-e363f8c4d83a');\n",
              "        const dataTable =\n",
              "          await google.colab.kernel.invokeFunction('convertToInteractive',\n",
              "                                                    [key], {});\n",
              "        if (!dataTable) return;\n",
              "\n",
              "        const docLinkHtml = 'Like what you see? Visit the ' +\n",
              "          '<a target=\"_blank\" href=https://colab.research.google.com/notebooks/data_table.ipynb>data table notebook</a>'\n",
              "          + ' to learn more about interactive tables.';\n",
              "        element.innerHTML = '';\n",
              "        dataTable['output_type'] = 'display_data';\n",
              "        await google.colab.output.renderOutput(dataTable, element);\n",
              "        const docLink = document.createElement('div');\n",
              "        docLink.innerHTML = docLinkHtml;\n",
              "        element.appendChild(docLink);\n",
              "      }\n",
              "    </script>\n",
              "  </div>\n",
              "\n",
              "\n",
              "    <div id=\"df-9464285e-2b70-4a0e-94ca-a773b1142a30\">\n",
              "      <button class=\"colab-df-quickchart\" onclick=\"quickchart('df-9464285e-2b70-4a0e-94ca-a773b1142a30')\"\n",
              "                title=\"Suggest charts\"\n",
              "                style=\"display:none;\">\n",
              "\n",
              "<svg xmlns=\"http://www.w3.org/2000/svg\" height=\"24px\"viewBox=\"0 0 24 24\"\n",
              "     width=\"24px\">\n",
              "    <g>\n",
              "        <path d=\"M19 3H5c-1.1 0-2 .9-2 2v14c0 1.1.9 2 2 2h14c1.1 0 2-.9 2-2V5c0-1.1-.9-2-2-2zM9 17H7v-7h2v7zm4 0h-2V7h2v10zm4 0h-2v-4h2v4z\"/>\n",
              "    </g>\n",
              "</svg>\n",
              "      </button>\n",
              "\n",
              "<style>\n",
              "  .colab-df-quickchart {\n",
              "      --bg-color: #E8F0FE;\n",
              "      --fill-color: #1967D2;\n",
              "      --hover-bg-color: #E2EBFA;\n",
              "      --hover-fill-color: #174EA6;\n",
              "      --disabled-fill-color: #AAA;\n",
              "      --disabled-bg-color: #DDD;\n",
              "  }\n",
              "\n",
              "  [theme=dark] .colab-df-quickchart {\n",
              "      --bg-color: #3B4455;\n",
              "      --fill-color: #D2E3FC;\n",
              "      --hover-bg-color: #434B5C;\n",
              "      --hover-fill-color: #FFFFFF;\n",
              "      --disabled-bg-color: #3B4455;\n",
              "      --disabled-fill-color: #666;\n",
              "  }\n",
              "\n",
              "  .colab-df-quickchart {\n",
              "    background-color: var(--bg-color);\n",
              "    border: none;\n",
              "    border-radius: 50%;\n",
              "    cursor: pointer;\n",
              "    display: none;\n",
              "    fill: var(--fill-color);\n",
              "    height: 32px;\n",
              "    padding: 0;\n",
              "    width: 32px;\n",
              "  }\n",
              "\n",
              "  .colab-df-quickchart:hover {\n",
              "    background-color: var(--hover-bg-color);\n",
              "    box-shadow: 0 1px 2px rgba(60, 64, 67, 0.3), 0 1px 3px 1px rgba(60, 64, 67, 0.15);\n",
              "    fill: var(--button-hover-fill-color);\n",
              "  }\n",
              "\n",
              "  .colab-df-quickchart-complete:disabled,\n",
              "  .colab-df-quickchart-complete:disabled:hover {\n",
              "    background-color: var(--disabled-bg-color);\n",
              "    fill: var(--disabled-fill-color);\n",
              "    box-shadow: none;\n",
              "  }\n",
              "\n",
              "  .colab-df-spinner {\n",
              "    border: 2px solid var(--fill-color);\n",
              "    border-color: transparent;\n",
              "    border-bottom-color: var(--fill-color);\n",
              "    animation:\n",
              "      spin 1s steps(1) infinite;\n",
              "  }\n",
              "\n",
              "  @keyframes spin {\n",
              "    0% {\n",
              "      border-color: transparent;\n",
              "      border-bottom-color: var(--fill-color);\n",
              "      border-left-color: var(--fill-color);\n",
              "    }\n",
              "    20% {\n",
              "      border-color: transparent;\n",
              "      border-left-color: var(--fill-color);\n",
              "      border-top-color: var(--fill-color);\n",
              "    }\n",
              "    30% {\n",
              "      border-color: transparent;\n",
              "      border-left-color: var(--fill-color);\n",
              "      border-top-color: var(--fill-color);\n",
              "      border-right-color: var(--fill-color);\n",
              "    }\n",
              "    40% {\n",
              "      border-color: transparent;\n",
              "      border-right-color: var(--fill-color);\n",
              "      border-top-color: var(--fill-color);\n",
              "    }\n",
              "    60% {\n",
              "      border-color: transparent;\n",
              "      border-right-color: var(--fill-color);\n",
              "    }\n",
              "    80% {\n",
              "      border-color: transparent;\n",
              "      border-right-color: var(--fill-color);\n",
              "      border-bottom-color: var(--fill-color);\n",
              "    }\n",
              "    90% {\n",
              "      border-color: transparent;\n",
              "      border-bottom-color: var(--fill-color);\n",
              "    }\n",
              "  }\n",
              "</style>\n",
              "\n",
              "      <script>\n",
              "        async function quickchart(key) {\n",
              "          const quickchartButtonEl =\n",
              "            document.querySelector('#' + key + ' button');\n",
              "          quickchartButtonEl.disabled = true;  // To prevent multiple clicks.\n",
              "          quickchartButtonEl.classList.add('colab-df-spinner');\n",
              "          try {\n",
              "            const charts = await google.colab.kernel.invokeFunction(\n",
              "                'suggestCharts', [key], {});\n",
              "          } catch (error) {\n",
              "            console.error('Error during call to suggestCharts:', error);\n",
              "          }\n",
              "          quickchartButtonEl.classList.remove('colab-df-spinner');\n",
              "          quickchartButtonEl.classList.add('colab-df-quickchart-complete');\n",
              "        }\n",
              "        (() => {\n",
              "          let quickchartButtonEl =\n",
              "            document.querySelector('#df-9464285e-2b70-4a0e-94ca-a773b1142a30 button');\n",
              "          quickchartButtonEl.style.display =\n",
              "            google.colab.kernel.accessAllowed ? 'block' : 'none';\n",
              "        })();\n",
              "      </script>\n",
              "    </div>\n",
              "\n",
              "  <div id=\"id_735cfa22-4fb8-4845-aac2-ff51ccaf23a3\">\n",
              "    <style>\n",
              "      .colab-df-generate {\n",
              "        background-color: #E8F0FE;\n",
              "        border: none;\n",
              "        border-radius: 50%;\n",
              "        cursor: pointer;\n",
              "        display: none;\n",
              "        fill: #1967D2;\n",
              "        height: 32px;\n",
              "        padding: 0 0 0 0;\n",
              "        width: 32px;\n",
              "      }\n",
              "\n",
              "      .colab-df-generate:hover {\n",
              "        background-color: #E2EBFA;\n",
              "        box-shadow: 0px 1px 2px rgba(60, 64, 67, 0.3), 0px 1px 3px 1px rgba(60, 64, 67, 0.15);\n",
              "        fill: #174EA6;\n",
              "      }\n",
              "\n",
              "      [theme=dark] .colab-df-generate {\n",
              "        background-color: #3B4455;\n",
              "        fill: #D2E3FC;\n",
              "      }\n",
              "\n",
              "      [theme=dark] .colab-df-generate:hover {\n",
              "        background-color: #434B5C;\n",
              "        box-shadow: 0px 1px 3px 1px rgba(0, 0, 0, 0.15);\n",
              "        filter: drop-shadow(0px 1px 2px rgba(0, 0, 0, 0.3));\n",
              "        fill: #FFFFFF;\n",
              "      }\n",
              "    </style>\n",
              "    <button class=\"colab-df-generate\" onclick=\"generateWithVariable('performance_metrics')\"\n",
              "            title=\"Generate code using this dataframe.\"\n",
              "            style=\"display:none;\">\n",
              "\n",
              "  <svg xmlns=\"http://www.w3.org/2000/svg\" height=\"24px\"viewBox=\"0 0 24 24\"\n",
              "       width=\"24px\">\n",
              "    <path d=\"M7,19H8.4L18.45,9,17,7.55,7,17.6ZM5,21V16.75L18.45,3.32a2,2,0,0,1,2.83,0l1.4,1.43a1.91,1.91,0,0,1,.58,1.4,1.91,1.91,0,0,1-.58,1.4L9.25,21ZM18.45,9,17,7.55Zm-12,3A5.31,5.31,0,0,0,4.9,8.1,5.31,5.31,0,0,0,1,6.5,5.31,5.31,0,0,0,4.9,4.9,5.31,5.31,0,0,0,6.5,1,5.31,5.31,0,0,0,8.1,4.9,5.31,5.31,0,0,0,12,6.5,5.46,5.46,0,0,0,6.5,12Z\"/>\n",
              "  </svg>\n",
              "    </button>\n",
              "    <script>\n",
              "      (() => {\n",
              "      const buttonEl =\n",
              "        document.querySelector('#id_735cfa22-4fb8-4845-aac2-ff51ccaf23a3 button.colab-df-generate');\n",
              "      buttonEl.style.display =\n",
              "        google.colab.kernel.accessAllowed ? 'block' : 'none';\n",
              "\n",
              "      buttonEl.onclick = () => {\n",
              "        google.colab.notebook.generateWithVariable('performance_metrics');\n",
              "      }\n",
              "      })();\n",
              "    </script>\n",
              "  </div>\n",
              "\n",
              "    </div>\n",
              "  </div>\n"
            ],
            "application/vnd.google.colaboratory.intrinsic+json": {
              "type": "dataframe",
              "variable_name": "performance_metrics",
              "summary": "{\n  \"name\": \"performance_metrics\",\n  \"rows\": 3,\n  \"fields\": [\n    {\n      \"column\": \"Model\",\n      \"properties\": {\n        \"dtype\": \"string\",\n        \"num_unique_values\": 3,\n        \"samples\": [\n          \"Linear Regression\",\n          \"Random Forest\",\n          \"Sequential Model\"\n        ],\n        \"semantic_type\": \"\",\n        \"description\": \"\"\n      }\n    },\n    {\n      \"column\": \"RMSE\",\n      \"properties\": {\n        \"dtype\": \"number\",\n        \"std\": 5.440552964418606,\n        \"min\": 8.702397807506713,\n        \"max\": 18.24720130733791,\n        \"num_unique_values\": 3,\n        \"samples\": [\n          18.24720130733791,\n          8.950267063546304,\n          8.702397807506713\n        ],\n        \"semantic_type\": \"\",\n        \"description\": \"\"\n      }\n    },\n    {\n      \"column\": \"R\\u00b2\",\n      \"properties\": {\n        \"dtype\": \"number\",\n        \"std\": 1.481455489466304,\n        \"min\": -2.3515570687412075,\n        \"max\": 0.23466110229492188,\n        \"num_unique_values\": 3,\n        \"samples\": [\n          -2.3515570687412075,\n          0.19364537617999733,\n          0.23466110229492188\n        ],\n        \"semantic_type\": \"\",\n        \"description\": \"\"\n      }\n    }\n  ]\n}"
            }
          },
          "metadata": {}
        }
      ]
    },
    {
      "cell_type": "markdown",
      "source": [
        "**`Summary`**\n",
        "\n",
        "The Random Forest model achieved the lowest RMSE (8.95), indicating the smallest average prediction error.\n",
        "The Random Forest model also achieved the highest R² (0.194), suggesting it explains the largest proportion of the variance in traffic volume compared to the other two models.\n",
        "The Linear Regression model performed the worst with the highest RMSE and a negative R², indicating it does not fit the data well.\n",
        "The Sequential Model performed better than Linear Regression but not as well as Random Forest in terms of both RMSE and R² on this specific dataset and configuration.\n",
        "\n",
        "**`Potential Advantages and Disadvantages of Sequential Models for Time Series `**\n",
        "\n",
        "**Advantages:**\n",
        "- Sequential models (like GRU and LSTM) are specifically designed to capture temporal dependencies and patterns in sequential data, which is crucial for time series forecasting like traffic volume.\n",
        "- They can learn complex non-linear relationships over time that traditional models might miss.\n",
        "- They can handle sequences of varying lengths (though we used fixed time steps here).\n",
        "\n",
        "**Disadvantages:**\n",
        "- Sequential models typically require more data for effective training compared to traditional models.\n",
        "- They are generally more computationally intensive to train and tune.\n",
        "- Their interpretability is lower compared to models like Linear Regression or even Feature Importances from Random Forest.\n",
        "- Building and tuning sequential models can be more complex and time-consuming.\n",
        "- Performance can be highly sensitive to hyperparameters (e.g., number of units, layers, epochs, time steps).\n",
        "\n",
        "For this specific dataset and task, while sequential models have the theoretical advantage of handling temporal data, the Random Forest model performed better, possibly due to the relatively simple temporal patterns captured by the engineered features (Hour, DayOfWeek, Weekend) and the complexity introduced by the 'Junction' feature, which Random Forest is well-suited to handle."
      ],
      "metadata": {
        "id": "a90flGcf630C"
      }
    }
  ]
}